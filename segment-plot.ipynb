{
 "cells": [
  {
   "cell_type": "code",
   "execution_count": 2,
   "metadata": {},
   "outputs": [
    {
     "name": "stdout",
     "output_type": "stream",
     "text": [
      "My System version is 3.12.4 (main, Jun  6 2024, 18:26:44) [Clang 15.0.0 (clang-1500.3.9.4)];\n",
      "Polars version is 1.0.0.\n",
      "My System version is 3.12.4 (main, Jun  6 2024, 18:26:44) [Clang 15.0.0 (clang-1500.3.9.4)];\n",
      "Polars version is 1.0.0.\n"
     ]
    }
   ],
   "source": [
    "# Loading Libraries\n",
    "import polars as pl\n",
    "import polars.selectors as cs\n",
    "from plotnine import *\n",
    "from mizani.labels import label_number\n",
    "import sys \n",
    "\n",
    "print(f'My System version is {sys.version};\\nPolars version is {pl.__version__}.')"
   ]
  },
  {
   "cell_type": "code",
   "execution_count": 3,
   "metadata": {},
   "outputs": [
    {
     "name": "stdout",
     "output_type": "stream",
     "text": [
      "shape: (453, 10)\n",
      "┌───────────────┬─────────────────────────────────┬───────────────────┬──────────┬───┬──────────┬───────┬─────────┬────────┐\n",
      "│ Region        ┆ Region Name                     ┆ Region - RegionId ┆ Variable ┆ … ┆ Age Name ┆ Scale ┆ Units   ┆ 2008   │\n",
      "│ ---           ┆ ---                             ┆ ---               ┆ ---      ┆   ┆ ---      ┆ ---   ┆ ---     ┆ ---    │\n",
      "│ str           ┆ str                             ┆ str               ┆ str      ┆   ┆ str      ┆ str   ┆ str     ┆ i64    │\n",
      "╞═══════════════╪═════════════════════════════════╪═══════════════════╪══════════╪═══╪══════════╪═══════╪═════════╪════════╡\n",
      "│ KN.A2         ┆ Upper Nile                      ┆ SS-NU             ┆ KN.B2    ┆ … ┆ Total    ┆ units ┆ Persons ┆ 964353 │\n",
      "│ KN.A2         ┆ Upper Nile                      ┆ SS-NU             ┆ KN.B2    ┆ … ┆ 0 to 4   ┆ units ┆ Persons ┆ 150872 │\n",
      "│ KN.A2         ┆ Upper Nile                      ┆ SS-NU             ┆ KN.B2    ┆ … ┆ 5 to 9   ┆ units ┆ Persons ┆ 151467 │\n",
      "│ KN.A2         ┆ Upper Nile                      ┆ SS-NU             ┆ KN.B2    ┆ … ┆ 10 to 14 ┆ units ┆ Persons ┆ 126140 │\n",
      "│ KN.A2         ┆ Upper Nile                      ┆ SS-NU             ┆ KN.B2    ┆ … ┆ 15 to 19 ┆ units ┆ Persons ┆ 103804 │\n",
      "│ …             ┆ …                               ┆ …                 ┆ …        ┆ … ┆ …        ┆ …     ┆ …       ┆ …      │\n",
      "│ KN.A11        ┆ Eastern Equatoria               ┆ SS-EE             ┆ KN.B8    ┆ … ┆ 60 to 64 ┆ units ┆ Persons ┆ 5274   │\n",
      "│ KN.A11        ┆ Eastern Equatoria               ┆ SS-EE             ┆ KN.B8    ┆ … ┆ 65+      ┆ units ┆ Persons ┆ 8637   │\n",
      "│ null          ┆ null                            ┆ null              ┆ null     ┆ … ┆ null     ┆ null  ┆ null    ┆ null   │\n",
      "│ Source:       ┆ National Bureau of Statistics,… ┆ null              ┆ null     ┆ … ┆ null     ┆ null  ┆ null    ┆ null   │\n",
      "│ Download URL: ┆ http://southsudan.opendatafora… ┆ null              ┆ null     ┆ … ┆ null     ┆ null  ┆ null    ┆ null   │\n",
      "└───────────────┴─────────────────────────────────┴───────────────────┴──────────┴───┴──────────┴───────┴─────────┴────────┘\n",
      "shape: (453, 10)\n",
      "┌───────────────┬─────────────────────────────────┬───────────────────┬──────────┬───┬──────────┬───────┬─────────┬────────┐\n",
      "│ Region        ┆ Region Name                     ┆ Region - RegionId ┆ Variable ┆ … ┆ Age Name ┆ Scale ┆ Units   ┆ 2008   │\n",
      "│ ---           ┆ ---                             ┆ ---               ┆ ---      ┆   ┆ ---      ┆ ---   ┆ ---     ┆ ---    │\n",
      "│ str           ┆ str                             ┆ str               ┆ str      ┆   ┆ str      ┆ str   ┆ str     ┆ i64    │\n",
      "╞═══════════════╪═════════════════════════════════╪═══════════════════╪══════════╪═══╪══════════╪═══════╪═════════╪════════╡\n",
      "│ KN.A2         ┆ Upper Nile                      ┆ SS-NU             ┆ KN.B2    ┆ … ┆ Total    ┆ units ┆ Persons ┆ 964353 │\n",
      "│ KN.A2         ┆ Upper Nile                      ┆ SS-NU             ┆ KN.B2    ┆ … ┆ 0 to 4   ┆ units ┆ Persons ┆ 150872 │\n",
      "│ KN.A2         ┆ Upper Nile                      ┆ SS-NU             ┆ KN.B2    ┆ … ┆ 5 to 9   ┆ units ┆ Persons ┆ 151467 │\n",
      "│ KN.A2         ┆ Upper Nile                      ┆ SS-NU             ┆ KN.B2    ┆ … ┆ 10 to 14 ┆ units ┆ Persons ┆ 126140 │\n",
      "│ KN.A2         ┆ Upper Nile                      ┆ SS-NU             ┆ KN.B2    ┆ … ┆ 15 to 19 ┆ units ┆ Persons ┆ 103804 │\n",
      "│ …             ┆ …                               ┆ …                 ┆ …        ┆ … ┆ …        ┆ …     ┆ …       ┆ …      │\n",
      "│ KN.A11        ┆ Eastern Equatoria               ┆ SS-EE             ┆ KN.B8    ┆ … ┆ 60 to 64 ┆ units ┆ Persons ┆ 5274   │\n",
      "│ KN.A11        ┆ Eastern Equatoria               ┆ SS-EE             ┆ KN.B8    ┆ … ┆ 65+      ┆ units ┆ Persons ┆ 8637   │\n",
      "│ null          ┆ null                            ┆ null              ┆ null     ┆ … ┆ null     ┆ null  ┆ null    ┆ null   │\n",
      "│ Source:       ┆ National Bureau of Statistics,… ┆ null              ┆ null     ┆ … ┆ null     ┆ null  ┆ null    ┆ null   │\n",
      "│ Download URL: ┆ http://southsudan.opendatafora… ┆ null              ┆ null     ┆ … ┆ null     ┆ null  ┆ null    ┆ null   │\n",
      "└───────────────┴─────────────────────────────────┴───────────────────┴──────────┴───┴──────────┴───────┴─────────┴────────┘\n"
     ]
    }
   ],
   "source": [
    "# Load the load\n",
    "url = 'https://raw.githubusercontent.com/tongakuot/python_tutorials/main/00_data/ss_2008_census_data_raw.csv'\n",
    "\n",
    "# Tell polars how to label missing values\n",
    "census_raw = pl.read_csv(url, null_values='NA')\n",
    "\n",
    "# Inspect the data\n",
    "print(census_raw)"
   ]
  },
  {
   "cell_type": "code",
   "execution_count": 4,
   "metadata": {},
   "outputs": [
    {
     "ename": "ModuleNotFoundError",
     "evalue": "No module named 'censuspy'",
     "output_type": "error",
     "traceback": [
      "\u001b[0;31m---------------------------------------------------------------------------\u001b[0m\n",
      "\u001b[0;31mModuleNotFoundError\u001b[0m                       Traceback (most recent call last)\n",
      "Cell \u001b[0;32mIn[4], line 2\u001b[0m\n",
      "\u001b[1;32m      1\u001b[0m \u001b[38;5;66;03m# Let's import our custom function censuspy as cy\u001b[39;00m\n",
      "\u001b[0;32m----> 2\u001b[0m \u001b[38;5;28;01mimport\u001b[39;00m \u001b[38;5;21;01mcensuspy\u001b[39;00m \u001b[38;5;28;01mas\u001b[39;00m \u001b[38;5;21;01mcy\u001b[39;00m\n",
      "\u001b[1;32m      3\u001b[0m census \u001b[38;5;241m=\u001b[39m (\n",
      "\u001b[1;32m      4\u001b[0m     cy\u001b[38;5;241m.\u001b[39mtweak_census(\n",
      "\u001b[1;32m      5\u001b[0m     census_raw, \n",
      "\u001b[0;32m   (...)\u001b[0m\n",
      "\u001b[1;32m      8\u001b[0m     )\n",
      "\u001b[1;32m      9\u001b[0m )\n",
      "\u001b[1;32m     11\u001b[0m \u001b[38;5;66;03m# inspect the first 5 rows\u001b[39;00m\n",
      "\n",
      "\u001b[0;31mModuleNotFoundError\u001b[0m: No module named 'censuspy'"
     ]
    }
   ],
   "source": [
    "# Let's import our custom function censuspy as cy\n",
    "import censuspy as cy\n",
    "census = (\n",
    "    cy.tweak_census(\n",
    "    census_raw, \n",
    "    grouping_cols=['former_region', 'state', 'gender', 'category'], \n",
    "    condition=~((pl.col('gender') == 'Total') | (pl.col('category') == 'Total')) \n",
    "    )\n",
    ")\n",
    "\n",
    "# inspect the first 5 rows\n",
    "print(census)"
   ]
  },
  {
   "cell_type": "code",
   "execution_count": null,
   "metadata": {},
   "outputs": [],
   "source": []
  }
 ],
 "metadata": {
  "language_info": {
   "name": "python"
  }
 },
 "nbformat": 4,
 "nbformat_minor": 2
}
