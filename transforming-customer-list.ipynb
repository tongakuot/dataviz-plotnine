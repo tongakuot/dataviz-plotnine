{
 "cells": [
  {
   "cell_type": "code",
   "execution_count": 1,
   "metadata": {},
   "outputs": [
    {
     "name": "stdout",
     "output_type": "stream",
     "text": [
      "My System version is 3.12.4 (main, Jun  6 2024, 18:26:44) [Clang 15.0.0 (clang-1500.3.9.4)];\n",
      "Polars version is 1.0.0.\n",
      "My System version is 3.12.4 (main, Jun  6 2024, 18:26:44) [Clang 15.0.0 (clang-1500.3.9.4)];\n",
      "Polars version is 1.0.0.\n"
     ]
    }
   ],
   "source": [
    "import polars as pl\n",
    "import sys \n",
    "\n",
    "print(f'My System version is {sys.version};\\nPolars version is {pl.__version__}.')"
   ]
  },
  {
   "cell_type": "code",
   "execution_count": 2,
   "metadata": {},
   "outputs": [],
   "source": [
    "url = 'https://github.com/tongakuot/python_tutorials/blob/main/00_data/Customer%20Call%20List.xlsx'"
   ]
  },
  {
   "cell_type": "code",
   "execution_count": 8,
   "metadata": {},
   "outputs": [
    {
     "ename": "FileNotFoundError",
     "evalue": "data/Customer Call List (3).xlsx",
     "output_type": "error",
     "traceback": [
      "\u001b[0;31m---------------------------------------------------------------------------\u001b[0m\n",
      "\u001b[0;31mFileNotFoundError\u001b[0m                         Traceback (most recent call last)\n",
      "Cell \u001b[0;32mIn[8], line 1\u001b[0m\n",
      "\u001b[0;32m----> 1\u001b[0m customer_list \u001b[38;5;241m=\u001b[39m \u001b[43mpl\u001b[49m\u001b[38;5;241;43m.\u001b[39;49m\u001b[43mread_excel\u001b[49m\u001b[43m(\u001b[49m\u001b[38;5;124;43m'\u001b[39;49m\u001b[38;5;124;43mdata/Customer Call List (3).xlsx\u001b[39;49m\u001b[38;5;124;43m'\u001b[39;49m\u001b[43m,\u001b[49m\u001b[43m \u001b[49m\u001b[43mengine\u001b[49m\u001b[38;5;241;43m=\u001b[39;49m\u001b[38;5;124;43m'\u001b[39;49m\u001b[38;5;124;43mxlsx2csv\u001b[39;49m\u001b[38;5;124;43m'\u001b[39;49m\u001b[43m)\u001b[49m\n",
      "\n",
      "File \u001b[0;32m~/Documents/dataviz-with-plotnine/.venv/lib/python3.12/site-packages/polars/_utils/deprecation.py:91\u001b[0m, in \u001b[0;36mdeprecate_renamed_parameter.<locals>.decorate.<locals>.wrapper\u001b[0;34m(*args, **kwargs)\u001b[0m\n",
      "\u001b[1;32m     86\u001b[0m \u001b[38;5;129m@wraps\u001b[39m(function)\n",
      "\u001b[1;32m     87\u001b[0m \u001b[38;5;28;01mdef\u001b[39;00m \u001b[38;5;21mwrapper\u001b[39m(\u001b[38;5;241m*\u001b[39margs: P\u001b[38;5;241m.\u001b[39margs, \u001b[38;5;241m*\u001b[39m\u001b[38;5;241m*\u001b[39mkwargs: P\u001b[38;5;241m.\u001b[39mkwargs) \u001b[38;5;241m-\u001b[39m\u001b[38;5;241m>\u001b[39m T:\n",
      "\u001b[1;32m     88\u001b[0m     _rename_keyword_argument(\n",
      "\u001b[1;32m     89\u001b[0m         old_name, new_name, kwargs, function\u001b[38;5;241m.\u001b[39m\u001b[38;5;18m__qualname__\u001b[39m, version\n",
      "\u001b[1;32m     90\u001b[0m     )\n",
      "\u001b[0;32m---> 91\u001b[0m     \u001b[38;5;28;01mreturn\u001b[39;00m \u001b[43mfunction\u001b[49m\u001b[43m(\u001b[49m\u001b[38;5;241;43m*\u001b[39;49m\u001b[43margs\u001b[49m\u001b[43m,\u001b[49m\u001b[43m \u001b[49m\u001b[38;5;241;43m*\u001b[39;49m\u001b[38;5;241;43m*\u001b[39;49m\u001b[43mkwargs\u001b[49m\u001b[43m)\u001b[49m\n",
      "\n",
      "File \u001b[0;32m~/Documents/dataviz-with-plotnine/.venv/lib/python3.12/site-packages/polars/_utils/deprecation.py:91\u001b[0m, in \u001b[0;36mdeprecate_renamed_parameter.<locals>.decorate.<locals>.wrapper\u001b[0;34m(*args, **kwargs)\u001b[0m\n",
      "\u001b[1;32m     86\u001b[0m \u001b[38;5;129m@wraps\u001b[39m(function)\n",
      "\u001b[1;32m     87\u001b[0m \u001b[38;5;28;01mdef\u001b[39;00m \u001b[38;5;21mwrapper\u001b[39m(\u001b[38;5;241m*\u001b[39margs: P\u001b[38;5;241m.\u001b[39margs, \u001b[38;5;241m*\u001b[39m\u001b[38;5;241m*\u001b[39mkwargs: P\u001b[38;5;241m.\u001b[39mkwargs) \u001b[38;5;241m-\u001b[39m\u001b[38;5;241m>\u001b[39m T:\n",
      "\u001b[1;32m     88\u001b[0m     _rename_keyword_argument(\n",
      "\u001b[1;32m     89\u001b[0m         old_name, new_name, kwargs, function\u001b[38;5;241m.\u001b[39m\u001b[38;5;18m__qualname__\u001b[39m, version\n",
      "\u001b[1;32m     90\u001b[0m     )\n",
      "\u001b[0;32m---> 91\u001b[0m     \u001b[38;5;28;01mreturn\u001b[39;00m \u001b[43mfunction\u001b[49m\u001b[43m(\u001b[49m\u001b[38;5;241;43m*\u001b[39;49m\u001b[43margs\u001b[49m\u001b[43m,\u001b[49m\u001b[43m \u001b[49m\u001b[38;5;241;43m*\u001b[39;49m\u001b[38;5;241;43m*\u001b[39;49m\u001b[43mkwargs\u001b[49m\u001b[43m)\u001b[49m\n",
      "\n",
      "File \u001b[0;32m~/Documents/dataviz-with-plotnine/.venv/lib/python3.12/site-packages/polars/io/spreadsheet/functions.py:274\u001b[0m, in \u001b[0;36mread_excel\u001b[0;34m(source, sheet_id, sheet_name, engine, engine_options, read_options, columns, schema_overrides, infer_schema_length, raise_if_empty)\u001b[0m\n",
      "\u001b[1;32m    140\u001b[0m \u001b[38;5;129m@deprecate_renamed_parameter\u001b[39m(\u001b[38;5;124m\"\u001b[39m\u001b[38;5;124mxlsx2csv_options\u001b[39m\u001b[38;5;124m\"\u001b[39m, \u001b[38;5;124m\"\u001b[39m\u001b[38;5;124mengine_options\u001b[39m\u001b[38;5;124m\"\u001b[39m, version\u001b[38;5;241m=\u001b[39m\u001b[38;5;124m\"\u001b[39m\u001b[38;5;124m0.20.6\u001b[39m\u001b[38;5;124m\"\u001b[39m)\n",
      "\u001b[1;32m    141\u001b[0m \u001b[38;5;129m@deprecate_renamed_parameter\u001b[39m(\u001b[38;5;124m\"\u001b[39m\u001b[38;5;124mread_csv_options\u001b[39m\u001b[38;5;124m\"\u001b[39m, \u001b[38;5;124m\"\u001b[39m\u001b[38;5;124mread_options\u001b[39m\u001b[38;5;124m\"\u001b[39m, version\u001b[38;5;241m=\u001b[39m\u001b[38;5;124m\"\u001b[39m\u001b[38;5;124m0.20.7\u001b[39m\u001b[38;5;124m\"\u001b[39m)\n",
      "\u001b[1;32m    142\u001b[0m \u001b[38;5;28;01mdef\u001b[39;00m \u001b[38;5;21mread_excel\u001b[39m(\n",
      "\u001b[0;32m   (...)\u001b[0m\n",
      "\u001b[1;32m    153\u001b[0m     raise_if_empty: \u001b[38;5;28mbool\u001b[39m \u001b[38;5;241m=\u001b[39m \u001b[38;5;28;01mTrue\u001b[39;00m,\n",
      "\u001b[1;32m    154\u001b[0m ) \u001b[38;5;241m-\u001b[39m\u001b[38;5;241m>\u001b[39m pl\u001b[38;5;241m.\u001b[39mDataFrame \u001b[38;5;241m|\u001b[39m \u001b[38;5;28mdict\u001b[39m[\u001b[38;5;28mstr\u001b[39m, pl\u001b[38;5;241m.\u001b[39mDataFrame]:\n",
      "\u001b[1;32m    155\u001b[0m \u001b[38;5;250m    \u001b[39m\u001b[38;5;124;03m\"\"\"\u001b[39;00m\n",
      "\u001b[1;32m    156\u001b[0m \u001b[38;5;124;03m    Read Excel spreadsheet data into a DataFrame.\u001b[39;00m\n",
      "\u001b[1;32m    157\u001b[0m \n",
      "\u001b[0;32m   (...)\u001b[0m\n",
      "\u001b[1;32m    272\u001b[0m \u001b[38;5;124;03m    ... )  # doctest: +SKIP\u001b[39;00m\n",
      "\u001b[1;32m    273\u001b[0m \u001b[38;5;124;03m    \"\"\"\u001b[39;00m\n",
      "\u001b[0;32m--> 274\u001b[0m     \u001b[38;5;28;01mreturn\u001b[39;00m \u001b[43m_read_spreadsheet\u001b[49m\u001b[43m(\u001b[49m\n",
      "\u001b[1;32m    275\u001b[0m \u001b[43m        \u001b[49m\u001b[43msheet_id\u001b[49m\u001b[43m,\u001b[49m\n",
      "\u001b[1;32m    276\u001b[0m \u001b[43m        \u001b[49m\u001b[43msheet_name\u001b[49m\u001b[43m,\u001b[49m\n",
      "\u001b[1;32m    277\u001b[0m \u001b[43m        \u001b[49m\u001b[43msource\u001b[49m\u001b[38;5;241;43m=\u001b[39;49m\u001b[43msource\u001b[49m\u001b[43m,\u001b[49m\n",
      "\u001b[1;32m    278\u001b[0m \u001b[43m        \u001b[49m\u001b[43mengine\u001b[49m\u001b[38;5;241;43m=\u001b[39;49m\u001b[43mengine\u001b[49m\u001b[43m,\u001b[49m\n",
      "\u001b[1;32m    279\u001b[0m \u001b[43m        \u001b[49m\u001b[43mengine_options\u001b[49m\u001b[38;5;241;43m=\u001b[39;49m\u001b[43mengine_options\u001b[49m\u001b[43m,\u001b[49m\n",
      "\u001b[1;32m    280\u001b[0m \u001b[43m        \u001b[49m\u001b[43mread_options\u001b[49m\u001b[38;5;241;43m=\u001b[39;49m\u001b[43mread_options\u001b[49m\u001b[43m,\u001b[49m\n",
      "\u001b[1;32m    281\u001b[0m \u001b[43m        \u001b[49m\u001b[43mschema_overrides\u001b[49m\u001b[38;5;241;43m=\u001b[39;49m\u001b[43mschema_overrides\u001b[49m\u001b[43m,\u001b[49m\n",
      "\u001b[1;32m    282\u001b[0m \u001b[43m        \u001b[49m\u001b[43minfer_schema_length\u001b[49m\u001b[38;5;241;43m=\u001b[39;49m\u001b[43minfer_schema_length\u001b[49m\u001b[43m,\u001b[49m\n",
      "\u001b[1;32m    283\u001b[0m \u001b[43m        \u001b[49m\u001b[43mraise_if_empty\u001b[49m\u001b[38;5;241;43m=\u001b[39;49m\u001b[43mraise_if_empty\u001b[49m\u001b[43m,\u001b[49m\n",
      "\u001b[1;32m    284\u001b[0m \u001b[43m        \u001b[49m\u001b[43mcolumns\u001b[49m\u001b[38;5;241;43m=\u001b[39;49m\u001b[43mcolumns\u001b[49m\u001b[43m,\u001b[49m\n",
      "\u001b[1;32m    285\u001b[0m \u001b[43m    \u001b[49m\u001b[43m)\u001b[49m\n",
      "\n",
      "File \u001b[0;32m~/Documents/dataviz-with-plotnine/.venv/lib/python3.12/site-packages/polars/io/spreadsheet/functions.py:538\u001b[0m, in \u001b[0;36m_read_spreadsheet\u001b[0;34m(sheet_id, sheet_name, source, engine, engine_options, read_options, schema_overrides, infer_schema_length, columns, raise_if_empty)\u001b[0m\n",
      "\u001b[1;32m    535\u001b[0m     read_options[\u001b[38;5;124m\"\u001b[39m\u001b[38;5;124minfer_schema_length\u001b[39m\u001b[38;5;124m\"\u001b[39m] \u001b[38;5;241m=\u001b[39m infer_schema_length\n",
      "\u001b[1;32m    537\u001b[0m \u001b[38;5;66;03m# establish the reading function, parser, and available worksheets\u001b[39;00m\n",
      "\u001b[0;32m--> 538\u001b[0m reader_fn, parser, worksheets \u001b[38;5;241m=\u001b[39m \u001b[43m_initialise_spreadsheet_parser\u001b[49m\u001b[43m(\u001b[49m\n",
      "\u001b[1;32m    539\u001b[0m \u001b[43m    \u001b[49m\u001b[43mengine\u001b[49m\u001b[43m,\u001b[49m\u001b[43m \u001b[49m\u001b[43msource\u001b[49m\u001b[43m,\u001b[49m\u001b[43m \u001b[49m\u001b[43mengine_options\u001b[49m\n",
      "\u001b[1;32m    540\u001b[0m \u001b[43m\u001b[49m\u001b[43m)\u001b[49m\n",
      "\u001b[1;32m    541\u001b[0m \u001b[38;5;28;01mtry\u001b[39;00m:\n",
      "\u001b[1;32m    542\u001b[0m     \u001b[38;5;66;03m# parse data from the indicated sheet(s)\u001b[39;00m\n",
      "\u001b[1;32m    543\u001b[0m     sheet_names, return_multi \u001b[38;5;241m=\u001b[39m _get_sheet_names(sheet_id, sheet_name, worksheets)\n",
      "\n",
      "File \u001b[0;32m~/Documents/dataviz-with-plotnine/.venv/lib/python3.12/site-packages/polars/io/spreadsheet/functions.py:623\u001b[0m, in \u001b[0;36m_initialise_spreadsheet_parser\u001b[0;34m(engine, source, engine_options)\u001b[0m\n",
      "\u001b[1;32m    621\u001b[0m \u001b[38;5;250m\u001b[39m\u001b[38;5;124;03m\"\"\"Instantiate the indicated spreadsheet parser and establish related properties.\"\"\"\u001b[39;00m\n",
      "\u001b[1;32m    622\u001b[0m \u001b[38;5;28;01mif\u001b[39;00m \u001b[38;5;28misinstance\u001b[39m(source, (\u001b[38;5;28mstr\u001b[39m, Path)) \u001b[38;5;129;01mand\u001b[39;00m \u001b[38;5;129;01mnot\u001b[39;00m Path(source)\u001b[38;5;241m.\u001b[39mexists():\n",
      "\u001b[0;32m--> 623\u001b[0m     \u001b[38;5;28;01mraise\u001b[39;00m \u001b[38;5;167;01mFileNotFoundError\u001b[39;00m(source)\n",
      "\u001b[1;32m    625\u001b[0m \u001b[38;5;28;01mif\u001b[39;00m engine \u001b[38;5;241m==\u001b[39m \u001b[38;5;124m\"\u001b[39m\u001b[38;5;124mxlsx2csv\u001b[39m\u001b[38;5;124m\"\u001b[39m:  \u001b[38;5;66;03m# default\u001b[39;00m\n",
      "\u001b[1;32m    626\u001b[0m     xlsx2csv \u001b[38;5;241m=\u001b[39m import_optional(\u001b[38;5;124m\"\u001b[39m\u001b[38;5;124mxlsx2csv\u001b[39m\u001b[38;5;124m\"\u001b[39m)\n",
      "\n",
      "\u001b[0;31mFileNotFoundError\u001b[0m: data/Customer Call List (3).xlsx"
     ]
    }
   ],
   "source": [
    "customer_list = pl.read_excel('data/Customer Call List (3).xlsx', engine='xlsx2csv')"
   ]
  },
  {
   "cell_type": "code",
   "execution_count": null,
   "metadata": {},
   "outputs": [],
   "source": []
  }
 ],
 "metadata": {
  "language_info": {
   "name": "python"
  }
 },
 "nbformat": 4,
 "nbformat_minor": 2
}
